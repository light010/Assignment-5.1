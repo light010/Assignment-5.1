{
 "cells": [
  {
   "cell_type": "code",
   "execution_count": 19,
   "metadata": {
    "collapsed": true
   },
   "outputs": [],
   "source": [
    "import pandas as pd"
   ]
  },
  {
   "cell_type": "markdown",
   "metadata": {},
   "source": [
    "## Question"
   ]
  },
  {
   "cell_type": "markdown",
   "metadata": {},
   "source": [
    "Is gender independent of education level? <br>\n",
    "A random sample of 395 people were surveyed and each person was asked to report the highest education level they obtained. The data that resulted from the survey is summarized in the following table:<br>"
   ]
  },
  {
   "cell_type": "code",
   "execution_count": 17,
   "metadata": {},
   "outputs": [
    {
     "data": {
      "text/html": [
       "<div>\n",
       "<style>\n",
       "    .dataframe thead tr:only-child th {\n",
       "        text-align: right;\n",
       "    }\n",
       "\n",
       "    .dataframe thead th {\n",
       "        text-align: left;\n",
       "    }\n",
       "\n",
       "    .dataframe tbody tr th {\n",
       "        vertical-align: top;\n",
       "    }\n",
       "</style>\n",
       "<table border=\"1\" class=\"dataframe\">\n",
       "  <thead>\n",
       "    <tr style=\"text-align: right;\">\n",
       "      <th></th>\n",
       "      <th>High School</th>\n",
       "      <th>Bachelors</th>\n",
       "      <th>Masters</th>\n",
       "      <th>Ph.d</th>\n",
       "      <th>Total</th>\n",
       "    </tr>\n",
       "  </thead>\n",
       "  <tbody>\n",
       "    <tr>\n",
       "      <th>Female</th>\n",
       "      <td>60</td>\n",
       "      <td>54</td>\n",
       "      <td>46</td>\n",
       "      <td>41</td>\n",
       "      <td>201</td>\n",
       "    </tr>\n",
       "    <tr>\n",
       "      <th>Male</th>\n",
       "      <td>40</td>\n",
       "      <td>44</td>\n",
       "      <td>53</td>\n",
       "      <td>57</td>\n",
       "      <td>194</td>\n",
       "    </tr>\n",
       "    <tr>\n",
       "      <th>Total</th>\n",
       "      <td>100</td>\n",
       "      <td>98</td>\n",
       "      <td>99</td>\n",
       "      <td>98</td>\n",
       "      <td>395</td>\n",
       "    </tr>\n",
       "  </tbody>\n",
       "</table>\n",
       "</div>"
      ],
      "text/plain": [
       "        High School  Bachelors  Masters  Ph.d  Total\n",
       "Female           60         54       46    41    201\n",
       "Male             40         44       53    57    194\n",
       "Total           100         98       99    98    395"
      ]
     },
     "execution_count": 17,
     "metadata": {},
     "output_type": "execute_result"
    }
   ],
   "source": [
    "d1 = {'High School': pd.Series([60, 40, 100], index=['Female', 'Male', 'Total']),\n",
    "      'Bachelors': pd.Series([54, 44, 98], index=['Female', 'Male', 'Total']),\n",
    "      'Masters': pd.Series([46, 53, 99], index=['Female', 'Male', 'Total']),\n",
    "      'Ph.d': pd.Series([41, 57, 98], index=['Female', 'Male', 'Total']),\n",
    "      'Total': pd.Series([201, 194, 395], index=['Female', 'Male', 'Total'])}\n",
    "\n",
    "df1 = pd.DataFrame(d1, columns = [ 'High School', 'Bachelors', 'Masters', 'Ph.d', 'Total'])\n",
    "df1"
   ]
  },
  {
   "cell_type": "markdown",
   "metadata": {},
   "source": [
    "Question: Are gender and education level dependent at 5% level of significance? In other words, given the data collected above, is there a relationship between the gender of an individual and the level of education that they have obtained?"
   ]
  },
  {
   "cell_type": "markdown",
   "metadata": {},
   "source": [
    "## Solution"
   ]
  },
  {
   "cell_type": "markdown",
   "metadata": {},
   "source": [
    "* To test the Independency of two categorical variables (here gender & education level), we perform **Chi-square test**"
   ]
  },
  {
   "cell_type": "markdown",
   "metadata": {},
   "source": [
    "**Null hypothesis :-** Gender & Education level is independent to each other.<br>\n",
    "**Alternate hypothesis :-** Gender & Educational level is dependent to each other.\n",
    "\n",
    "$$\\chi^2 = \\sum \\frac{(O - E)^2}{E}$$\n",
    "   &emsp; &emsp; &emsp; $O$ = Observed value<br>\n",
    "   &emsp; &emsp; &emsp; $E$ = Expected value"
   ]
  },
  {
   "cell_type": "markdown",
   "metadata": {},
   "source": [
    "***\n",
    "**1. <u>Observed value</u> :-**"
   ]
  },
  {
   "cell_type": "code",
   "execution_count": 18,
   "metadata": {},
   "outputs": [
    {
     "data": {
      "text/html": [
       "<div>\n",
       "<style>\n",
       "    .dataframe thead tr:only-child th {\n",
       "        text-align: right;\n",
       "    }\n",
       "\n",
       "    .dataframe thead th {\n",
       "        text-align: left;\n",
       "    }\n",
       "\n",
       "    .dataframe tbody tr th {\n",
       "        vertical-align: top;\n",
       "    }\n",
       "</style>\n",
       "<table border=\"1\" class=\"dataframe\">\n",
       "  <thead>\n",
       "    <tr style=\"text-align: right;\">\n",
       "      <th></th>\n",
       "      <th>High School</th>\n",
       "      <th>Bachelors</th>\n",
       "      <th>Masters</th>\n",
       "      <th>Ph.d</th>\n",
       "      <th>Total</th>\n",
       "    </tr>\n",
       "  </thead>\n",
       "  <tbody>\n",
       "    <tr>\n",
       "      <th>Female</th>\n",
       "      <td>60</td>\n",
       "      <td>54</td>\n",
       "      <td>46</td>\n",
       "      <td>41</td>\n",
       "      <td>201</td>\n",
       "    </tr>\n",
       "    <tr>\n",
       "      <th>Male</th>\n",
       "      <td>40</td>\n",
       "      <td>44</td>\n",
       "      <td>53</td>\n",
       "      <td>57</td>\n",
       "      <td>194</td>\n",
       "    </tr>\n",
       "    <tr>\n",
       "      <th>Total</th>\n",
       "      <td>100</td>\n",
       "      <td>98</td>\n",
       "      <td>99</td>\n",
       "      <td>98</td>\n",
       "      <td>395</td>\n",
       "    </tr>\n",
       "  </tbody>\n",
       "</table>\n",
       "</div>"
      ],
      "text/plain": [
       "        High School  Bachelors  Masters  Ph.d  Total\n",
       "Female           60         54       46    41    201\n",
       "Male             40         44       53    57    194\n",
       "Total           100         98       99    98    395"
      ]
     },
     "execution_count": 18,
     "metadata": {},
     "output_type": "execute_result"
    }
   ],
   "source": [
    "d1 = {'High School': pd.Series([60, 40, 100], index=['Female', 'Male', 'Total']),\n",
    "      'Bachelors': pd.Series([54, 44, 98], index=['Female', 'Male', 'Total']),\n",
    "      'Masters': pd.Series([46, 53, 99], index=['Female', 'Male', 'Total']),\n",
    "      'Ph.d': pd.Series([41, 57, 98], index=['Female', 'Male', 'Total']),\n",
    "      'Total': pd.Series([201, 194, 395], index=['Female', 'Male', 'Total'])}\n",
    "\n",
    "df1 = pd.DataFrame(d1, columns = [ 'High School', 'Bachelors', 'Masters', 'Ph.d', 'Total'])\n",
    "df1"
   ]
  },
  {
   "cell_type": "markdown",
   "metadata": {},
   "source": [
    "***\n",
    "**2. <u>Expected value</u>**"
   ]
  },
  {
   "cell_type": "markdown",
   "metadata": {},
   "source": [
    "**a. ** For High School - Female = $\\frac{201}{395} \\times 100 = 50.866$<br>\n",
    "**b. ** For High School - Male = $\\frac{194}{395} \\times 100 = 49.114$<br>\n",
    "**c. ** For Bachelors - Female = $\\frac{201}{395} \\times 98 = 49.868$<br>\n",
    "**d. ** For Bachelors - Male = $\\frac{194}{395} \\times 98 = 48.132$<br>\n",
    "**e. ** For Masters - Female = $ \\frac{201}{395} \\times 99 = 50.377$<br>\n",
    "**f. ** For Masters - Male = $ \\frac{194}{395} \\times 99 = 48.623$<br>\n",
    "**g. ** For Ph.d - Female = $ \\frac{201}{395} \\times 98 = 49.868$<br>\n",
    "**h. ** For Ph.d - Male = $ \\frac{194}{395} \\times 98 = 48.132$<br>\n",
    "\n"
   ]
  },
  {
   "cell_type": "code",
   "execution_count": 20,
   "metadata": {},
   "outputs": [
    {
     "data": {
      "text/html": [
       "<div>\n",
       "<style>\n",
       "    .dataframe thead tr:only-child th {\n",
       "        text-align: right;\n",
       "    }\n",
       "\n",
       "    .dataframe thead th {\n",
       "        text-align: left;\n",
       "    }\n",
       "\n",
       "    .dataframe tbody tr th {\n",
       "        vertical-align: top;\n",
       "    }\n",
       "</style>\n",
       "<table border=\"1\" class=\"dataframe\">\n",
       "  <thead>\n",
       "    <tr style=\"text-align: right;\">\n",
       "      <th></th>\n",
       "      <th>High School</th>\n",
       "      <th>Bachelors</th>\n",
       "      <th>Masters</th>\n",
       "      <th>Ph.d</th>\n",
       "      <th>Total</th>\n",
       "    </tr>\n",
       "  </thead>\n",
       "  <tbody>\n",
       "    <tr>\n",
       "      <th>Female</th>\n",
       "      <td>50.866</td>\n",
       "      <td>49.868</td>\n",
       "      <td>50.377</td>\n",
       "      <td>49.868</td>\n",
       "      <td>201</td>\n",
       "    </tr>\n",
       "    <tr>\n",
       "      <th>Male</th>\n",
       "      <td>49.114</td>\n",
       "      <td>48.132</td>\n",
       "      <td>48.623</td>\n",
       "      <td>48.132</td>\n",
       "      <td>194</td>\n",
       "    </tr>\n",
       "    <tr>\n",
       "      <th>Total</th>\n",
       "      <td>100.000</td>\n",
       "      <td>98.000</td>\n",
       "      <td>99.000</td>\n",
       "      <td>98.000</td>\n",
       "      <td>395</td>\n",
       "    </tr>\n",
       "  </tbody>\n",
       "</table>\n",
       "</div>"
      ],
      "text/plain": [
       "        High School  Bachelors  Masters    Ph.d  Total\n",
       "Female       50.866     49.868   50.377  49.868    201\n",
       "Male         49.114     48.132   48.623  48.132    194\n",
       "Total       100.000     98.000   99.000  98.000    395"
      ]
     },
     "execution_count": 20,
     "metadata": {},
     "output_type": "execute_result"
    }
   ],
   "source": [
    "d1 = {'High School': pd.Series([50.866, 49.114, 100], index=['Female', 'Male', 'Total']),\n",
    "      'Bachelors': pd.Series([49.868, 48.132, 98], index=['Female', 'Male', 'Total']),\n",
    "      'Masters': pd.Series([50.377, 48.623, 99], index=['Female', 'Male', 'Total']),\n",
    "      'Ph.d': pd.Series([49.868, 48.132, 98], index=['Female', 'Male', 'Total']),\n",
    "      'Total': pd.Series([201, 194, 395], index=['Female', 'Male', 'Total'])}\n",
    "\n",
    "df1 = pd.DataFrame(d1, columns = [ 'High School', 'Bachelors', 'Masters', 'Ph.d', 'Total'])\n",
    "df1"
   ]
  },
  {
   "cell_type": "markdown",
   "metadata": {},
   "source": [
    "***\n",
    "**3. $\\chi^2$**"
   ]
  },
  {
   "cell_type": "code",
   "execution_count": 23,
   "metadata": {},
   "outputs": [
    {
     "data": {
      "text/plain": [
       "8.013723884467069"
      ]
     },
     "execution_count": 23,
     "metadata": {},
     "output_type": "execute_result"
    }
   ],
   "source": [
    "chi_sqr = (((60-50.866)**2 / 50.866) + ((40-49.114)**2 / 49.114) + ((54-49.868)**2 / 49.868) + ((44-48.132)**2 / 48.132) \\\n",
    "           + ((46-50.377)**2 / 50.377) + ((53-48.623)**2 / 48.623) + ((41-49.868)**2 / 49.868) + ((57-48.132)**2 / 48.132))\n",
    "\n",
    "chi_sqr"
   ]
  },
  {
   "cell_type": "markdown",
   "metadata": {},
   "source": [
    "***\n",
    "**4. Degree of freedom of $\\chi^2$**<br>\n",
    "    &emsp; &emsp; &emsp; &emsp; &emsp; &emsp; &emsp; &emsp; &emsp; &emsp; &emsp;= (number of rows - 1) $\\times$ (number of columns - 1)<br>\n",
    "    &emsp; &emsp; &emsp; &emsp; &emsp; &emsp; &emsp; &emsp; &emsp; &emsp; &emsp; = (2 - 1) $\\times$ (4 - 1)<br>\n",
    "    &emsp; &emsp; &emsp; &emsp; &emsp; &emsp; &emsp; &emsp; &emsp; &emsp; &emsp; = 3"
   ]
  },
  {
   "cell_type": "markdown",
   "metadata": {},
   "source": [
    "***\n",
    "**5. Critical value of $\\chi^2$ at $\\alpha$ = 0.05 and 3 degree of freedom**<br>\n",
    "By chi square distribution table it is $7.815$\n"
   ]
  },
  {
   "cell_type": "markdown",
   "metadata": {},
   "source": [
    "***\n",
    "**Result :-** we can notice that our chi_sqr value exceeds the critical value, that means our chi square value fall into the rejection region of curve.<br>\n",
    "Therefore our decision is we are rejecting the null hypothesis i.e. education lever does depend on gender at 5% level of significance."
   ]
  },
  {
   "cell_type": "code",
   "execution_count": null,
   "metadata": {
    "collapsed": true
   },
   "outputs": [],
   "source": []
  }
 ],
 "metadata": {
  "kernelspec": {
   "display_name": "Python 3",
   "language": "python",
   "name": "python3"
  },
  "language_info": {
   "codemirror_mode": {
    "name": "ipython",
    "version": 3
   },
   "file_extension": ".py",
   "mimetype": "text/x-python",
   "name": "python",
   "nbconvert_exporter": "python",
   "pygments_lexer": "ipython3",
   "version": "3.6.3"
  }
 },
 "nbformat": 4,
 "nbformat_minor": 2
}
